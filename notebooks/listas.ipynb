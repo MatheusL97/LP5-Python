{
 "cells": [
  {
   "cell_type": "markdown",
   "metadata": {},
   "source": []
  },
  {
   "cell_type": "markdown",
   "metadata": {},
   "source": [
    "# Listas \n",
    "\n",
    "Criando uma lista:"
   ]
  },
  {
   "cell_type": "code",
   "execution_count": 18,
   "metadata": {},
   "outputs": [
    {
     "name": "stdout",
     "output_type": "stream",
     "text": [
      "['Seya', 'Yoga', 'Shun', 'Shiryu']\n"
     ]
    }
   ],
   "source": [
    "cavaleiros = ['Seya', 'Yoga', 'Shun', 'Shiryu']\n",
    "print(cavaleiros)"
   ]
  },
  {
   "cell_type": "code",
   "execution_count": 19,
   "metadata": {},
   "outputs": [
    {
     "name": "stdout",
     "output_type": "stream",
     "text": [
      "Shun\n"
     ]
    }
   ],
   "source": [
    "# Mostrando o cavaleiro especifico\n",
    "print(cavaleiros[2])"
   ]
  },
  {
   "cell_type": "code",
   "execution_count": 20,
   "metadata": {},
   "outputs": [
    {
     "name": "stdout",
     "output_type": "stream",
     "text": [
      "Seya\n",
      "Yoga\n",
      "Shun\n",
      "Shiryu\n"
     ]
    }
   ],
   "source": [
    "# Percorrendo a lista inteira\n",
    "for cavaleiro in cavaleiros:\n",
    "    print(cavaleiro)"
   ]
  },
  {
   "cell_type": "code",
   "execution_count": 21,
   "metadata": {},
   "outputs": [
    {
     "name": "stdout",
     "output_type": "stream",
     "text": [
      "['Seya', 'Yoga', 'Shun', 'Shiryu']\n",
      "['Seya', 'Yoga', 'Shun', 'Shiryu', 'Ikki']\n"
     ]
    }
   ],
   "source": [
    "# Adicionando novos itens\n",
    "print(cavaleiros) #antes de adicionar\n",
    "\n",
    "cavaleiros.append('Ikki') # adicionando\n",
    "\n",
    "print(cavaleiros) # após adicionar"
   ]
  },
  {
   "cell_type": "code",
   "execution_count": 22,
   "metadata": {},
   "outputs": [
    {
     "name": "stdout",
     "output_type": "stream",
     "text": [
      "['Seya', 'Yoga', 'Shun', 'Shiryu', 'Ikki', 'Maryn', 'Morpheu']\n"
     ]
    }
   ],
   "source": [
    "# Adicionando mais de um item\n",
    "\n",
    "cavaleiros.extend(['Maryn', 'Morpheu'])\n",
    "print(cavaleiros)\n",
    "# display(cavaleiros) - outra forma de mostrar "
   ]
  },
  {
   "cell_type": "code",
   "execution_count": 23,
   "metadata": {},
   "outputs": [
    {
     "name": "stdout",
     "output_type": "stream",
     "text": [
      "['Ikki', 'Maryn', 'Morpheu', 'Seya', 'Shiryu', 'Shun', 'Yoga']\n"
     ]
    }
   ],
   "source": [
    "# Colocando em ordem alfabetica / do menor para maior\n",
    "cavaleiros.sort()\n",
    "print(cavaleiros)"
   ]
  },
  {
   "cell_type": "code",
   "execution_count": 33,
   "metadata": {},
   "outputs": [
    {
     "name": "stdout",
     "output_type": "stream",
     "text": [
      "['Athena', 'Athena', 'Athena', 'Athena', 'Yoga', 'Shun', 'Shiryu', 'Seya', 'Morpheu', 'Maryn', 'Ikki']\n"
     ]
    }
   ],
   "source": [
    "# Colocando em ordem alfabetica REVERSA / do MAIOR para MENOR\n",
    "cavaleiros.reverse()\n",
    "print(cavaleiros)"
   ]
  },
  {
   "cell_type": "code",
   "execution_count": 36,
   "metadata": {},
   "outputs": [
    {
     "name": "stdout",
     "output_type": "stream",
     "text": [
      "['Athena', 'Athena', 'Athena', 'Athena', 'Athena', 'Yoga', 'Shun', 'Shiryu', 'Seya', 'Morpheu', 'Maryn', 'Ikki']\n"
     ]
    }
   ],
   "source": [
    "# Adicionando item em uma lista em um indice especifico\n",
    "\n",
    "cavaleiros.insert(0,'Athena')\n",
    "print(cavaleiros)"
   ]
  },
  {
   "cell_type": "code",
   "execution_count": null,
   "metadata": {},
   "outputs": [
    {
     "name": "stdout",
     "output_type": "stream",
     "text": [
      "['Athena', 'Yoga', 'Shiryu', 'Seya', 'Morpheu', 'Maryn', 'Ikki']\n"
     ]
    }
   ],
   "source": [
    "# Excluindo elementos com REMOVE\n",
    "\n",
    "cavaleiros.remove('Shun')\n",
    "print(cavaleiros)"
   ]
  },
  {
   "cell_type": "code",
   "execution_count": null,
   "metadata": {},
   "outputs": [
    {
     "name": "stdout",
     "output_type": "stream",
     "text": [
      "['Athena', 'Yoga', 'Shiryu', 'Seya', 'Morpheu', 'Maryn']\n"
     ]
    }
   ],
   "source": [
    "# Excluindo elementos com POP\n",
    "\n",
    "cavaleiros.pop(-1) \n",
    "print(cavaleiros)"
   ]
  },
  {
   "cell_type": "code",
   "execution_count": 43,
   "metadata": {},
   "outputs": [
    {
     "name": "stdout",
     "output_type": "stream",
     "text": [
      "3\n"
     ]
    }
   ],
   "source": [
    "# achando o item pelo indice\n",
    "\n",
    "indice_cavaleiro = cavaleiros.index('Seya')\n",
    "print(indice_cavaleiro)"
   ]
  },
  {
   "cell_type": "code",
   "execution_count": null,
   "metadata": {},
   "outputs": [
    {
     "name": "stdout",
     "output_type": "stream",
     "text": [
      "['Athena', 'Yoga', 'Shiryu', 'Seya', 'Luciano de Python', 'Maryn']\n"
     ]
    }
   ],
   "source": [
    "# alterando valor de um elemento dentro da lista\n",
    "\n",
    "cavaleiros[cavaleiros.index('Morpheu')] = 'Luciano de Python'\n",
    "print(cavaleiros)"
   ]
  },
  {
   "cell_type": "code",
   "execution_count": null,
   "metadata": {},
   "outputs": [
    {
     "name": "stdout",
     "output_type": "stream",
     "text": [
      "[]\n"
     ]
    }
   ],
   "source": [
    "# limpando a lista toda\n",
    "\n",
    "cavaleiros.clear()\n",
    "print(cavaleiros)\n",
    "\n"
   ]
  },
  {
   "cell_type": "code",
   "execution_count": 46,
   "metadata": {},
   "outputs": [
    {
     "ename": "NameError",
     "evalue": "name 'cavaleiros' is not defined",
     "output_type": "error",
     "traceback": [
      "\u001b[31m---------------------------------------------------------------------------\u001b[39m",
      "\u001b[31mNameError\u001b[39m                                 Traceback (most recent call last)",
      "\u001b[36mCell\u001b[39m\u001b[36m \u001b[39m\u001b[32mIn[46]\u001b[39m\u001b[32m, line 4\u001b[39m\n\u001b[32m      1\u001b[39m \u001b[38;5;66;03m# deletando a lista toda, excluindo da memoria\u001b[39;00m\n\u001b[32m      3\u001b[39m \u001b[38;5;28;01mdel\u001b[39;00m cavaleiros\n\u001b[32m----> \u001b[39m\u001b[32m4\u001b[39m \u001b[38;5;28mprint\u001b[39m(\u001b[43mcavaleiros\u001b[49m)\n",
      "\u001b[31mNameError\u001b[39m: name 'cavaleiros' is not defined"
     ]
    }
   ],
   "source": [
    "# deletando a lista toda, excluindo da memoria\n",
    "\n",
    "del cavaleiros\n",
    "print(cavaleiros)"
   ]
  }
 ],
 "metadata": {
  "kernelspec": {
   "display_name": ".venv",
   "language": "python",
   "name": "python3"
  },
  "language_info": {
   "codemirror_mode": {
    "name": "ipython",
    "version": 3
   },
   "file_extension": ".py",
   "mimetype": "text/x-python",
   "name": "python",
   "nbconvert_exporter": "python",
   "pygments_lexer": "ipython3",
   "version": "3.12.0"
  }
 },
 "nbformat": 4,
 "nbformat_minor": 2
}
