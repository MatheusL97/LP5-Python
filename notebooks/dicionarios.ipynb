{
 "cells": [
  {
   "cell_type": "markdown",
   "metadata": {},
   "source": [
    "# Dicionarios\n",
    "\n",
    "Um  a variavel especial que pode armazenar mais de um valor, sendo constituido pelos chamados CHAVE e VALOR."
   ]
  },
  {
   "cell_type": "code",
   "execution_count": 44,
   "metadata": {},
   "outputs": [
    {
     "name": "stdout",
     "output_type": "stream",
     "text": [
      "{'nome': 'Cris', 'irmaos': ['Drew', 'Tonnya'], 'cor': 'preto'}\n"
     ]
    }
   ],
   "source": [
    "personagem = {\n",
    "    'nome': 'Cris',\n",
    "    'irmaos': ['Drew','Tonnya'],\n",
    "    'cor' : 'preto'\n",
    "}\n",
    "\n",
    "print(personagem)"
   ]
  },
  {
   "cell_type": "code",
   "execution_count": 5,
   "metadata": {},
   "outputs": [
    {
     "name": "stdout",
     "output_type": "stream",
     "text": [
      "[{'nome': 'Tommy', 'cor': ['verde', 'branco']}, {'nome': 'Kymberly', 'cor': 'rosa'}, {'nome': 'Bylli', 'cor': 'azul'}]\n"
     ]
    }
   ],
   "source": [
    "# Lista de dicionarios\n",
    "\n",
    "personagens = [\n",
    "    {'nome': 'Tommy', 'cor': ['verde', 'branco']},\n",
    "    {'nome': 'Kymberly', 'cor': 'rosa'},\n",
    "    {'nome': 'Bylli', 'cor': 'azul'}\n",
    "]\n",
    "\n",
    "print(personagens)"
   ]
  },
  {
   "cell_type": "code",
   "execution_count": 9,
   "metadata": {},
   "outputs": [
    {
     "data": {
      "text/plain": [
       "dict_keys(['nome', 'irmaos', 'cor'])"
      ]
     },
     "execution_count": 9,
     "metadata": {},
     "output_type": "execute_result"
    }
   ],
   "source": [
    "# identificando chaves \n",
    "\n",
    "personagem.keys()\n"
   ]
  },
  {
   "cell_type": "code",
   "execution_count": 8,
   "metadata": {},
   "outputs": [
    {
     "data": {
      "text/plain": [
       "dict_values(['Cris', ['Drew', 'Tonnya'], 'preto'])"
      ]
     },
     "execution_count": 8,
     "metadata": {},
     "output_type": "execute_result"
    }
   ],
   "source": [
    "# identificando valores \n",
    "\n",
    "personagem.values()"
   ]
  },
  {
   "cell_type": "code",
   "execution_count": 39,
   "metadata": {},
   "outputs": [
    {
     "name": "stdout",
     "output_type": "stream",
     "text": [
      "['verde', 'branco']\n"
     ]
    }
   ],
   "source": [
    "# acessando chaves e valores dentro de listas \n",
    "\n",
    "print(personagens[0]['cor'])"
   ]
  },
  {
   "cell_type": "code",
   "execution_count": 42,
   "metadata": {},
   "outputs": [
    {
     "name": "stdout",
     "output_type": "stream",
     "text": [
      "{'nome': 'Matheus', 'cor': ['verde', 'branco']}\n"
     ]
    }
   ],
   "source": [
    "# mudando valor de um dicionarios\n",
    "\n",
    "personagens[0]['nome'] = 'Matheus' \n",
    "print(personagens[0])"
   ]
  },
  {
   "cell_type": "code",
   "execution_count": 45,
   "metadata": {},
   "outputs": [
    {
     "name": "stdout",
     "output_type": "stream",
     "text": [
      "{'nome': 'Cris', 'irmaos': ['Drew', 'Tonnya'], 'cor': 'preto'}\n",
      "{'nome': 'Cris', 'cor': 'preto'}\n"
     ]
    }
   ],
   "source": [
    "# deletando chaves\n",
    "\n",
    "print (personagem) # antes do del\n",
    "\n",
    "del personagem['irmaos']\n",
    "\n",
    "print (personagem)"
   ]
  },
  {
   "cell_type": "code",
   "execution_count": 46,
   "metadata": {},
   "outputs": [
    {
     "name": "stdout",
     "output_type": "stream",
     "text": [
      "{'nome': 'Matheus', 'cor': ['verde', 'branco']}\n",
      "{'nome': 'Kymberly', 'cor': 'rosa'}\n",
      "{'nome': 'Bylli', 'cor': 'azul'}\n"
     ]
    }
   ],
   "source": [
    "for power_ranger in personagens:\n",
    "    print(power_ranger)"
   ]
  },
  {
   "cell_type": "code",
   "execution_count": 48,
   "metadata": {},
   "outputs": [
    {
     "name": "stdout",
     "output_type": "stream",
     "text": [
      "indice: 0, dicionario: {'nome': 'Matheus', 'cor': ['verde', 'branco']}\n",
      "indice: 1, dicionario: {'nome': 'Kymberly', 'cor': 'rosa'}\n",
      "indice: 2, dicionario: {'nome': 'Bylli', 'cor': 'azul'}\n"
     ]
    }
   ],
   "source": [
    "for indice, power_ranger in enumerate(personagens):\n",
    "    print(f'indice: {indice}, dicionario: {power_ranger}')"
   ]
  }
 ],
 "metadata": {
  "kernelspec": {
   "display_name": ".venv",
   "language": "python",
   "name": "python3"
  },
  "language_info": {
   "codemirror_mode": {
    "name": "ipython",
    "version": 3
   },
   "file_extension": ".py",
   "mimetype": "text/x-python",
   "name": "python",
   "nbconvert_exporter": "python",
   "pygments_lexer": "ipython3",
   "version": "3.12.0"
  }
 },
 "nbformat": 4,
 "nbformat_minor": 2
}
